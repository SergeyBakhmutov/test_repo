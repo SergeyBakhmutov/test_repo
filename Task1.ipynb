{
 "cells": [
  {
   "metadata": {},
   "cell_type": "markdown",
   "source": [
    "TASK 1\n",
    "Создайте класс Chocolate (для определения шоколадного батончика), принимающий следующие аргументы при инициализации: цена батончика (тип - float), добавка к шоколаду (необязательный аргумент, тип - str) - 2 балла\n",
    "При инициализации необходимо проверять, чтобы цена батончика была больше нуля, если цена меньше нуля необходимо вызывать исключение ValueError - 2 балла\n",
    "Реализуйте метод show_my_chocolate, выводящий на печать \"Шоколадный батончик, добавка: {ДОБАВКА}\" в случае наличия добавки, а иначе должна отобразиться следующая фраза: \"Обычный шоколадный батончик\" - 2 балла\n",
    "Переопределите метод __str__, который при применении функции print() к объекты класса Chocolate должен возвращать строку \"Шоколадный батончик, <ЦЕНА> рублей\" - 2 балла\n",
    "Продемонстрируйте использование соответствующего функционала вашего класса, создав несколько объектов Chocolate с различными аргументами - 2 балла"
   ],
   "id": "7e83b2c2ee75826d"
  },
  {
   "cell_type": "code",
   "id": "initial_id",
   "metadata": {
    "collapsed": true,
    "ExecuteTime": {
     "end_time": "2025-04-21T18:14:48.585852Z",
     "start_time": "2025-04-21T18:14:48.580836Z"
    }
   },
   "source": [
    "class Chocolate:\n",
    "    def __init__(self, price: float, topping: str=''):\n",
    "        self.price = price\n",
    "        self.topping = topping\n",
    "        if price <= 0:\n",
    "            raise ValueError(\"Цена должна быть больше нуля\")\n",
    "    def show_my_chocolate(self):\n",
    "        if self.topping == '':\n",
    "            print('Обычный шоколадный батончик.')\n",
    "        else:\n",
    "            print(f'Шоколадный батончик, добавка: {self.topping}.')\n",
    "    def __str__(self):\n",
    "        return f'Шоколадный батончик, {self.price} рублей.'\n",
    "            "
   ],
   "outputs": [],
   "execution_count": 56
  },
  {
   "metadata": {
    "ExecuteTime": {
     "end_time": "2025-04-21T18:14:49.006541Z",
     "start_time": "2025-04-21T18:14:49.004624Z"
    }
   },
   "cell_type": "code",
   "source": [
    "chocolate1 = Chocolate(150, \"ваниль\")\n",
    "print(chocolate1)"
   ],
   "id": "e48e3182e9dd1bca",
   "outputs": [
    {
     "name": "stdout",
     "output_type": "stream",
     "text": [
      "Школоданый батончик, 150 рублей.\n"
     ]
    }
   ],
   "execution_count": 57
  },
  {
   "metadata": {
    "ExecuteTime": {
     "end_time": "2025-04-21T18:15:10.612752Z",
     "start_time": "2025-04-21T18:15:10.593705Z"
    }
   },
   "cell_type": "code",
   "source": [
    "chocolate2 = Chocolate(0, \"ваниль\")\n",
    "print(chocolate2)"
   ],
   "id": "e2c676d962de38bd",
   "outputs": [
    {
     "ename": "ValueError",
     "evalue": "Цена должна быть больше нуля",
     "output_type": "error",
     "traceback": [
      "\u001B[0;31m---------------------------------------------------------------------------\u001B[0m",
      "\u001B[0;31mValueError\u001B[0m                                Traceback (most recent call last)",
      "Cell \u001B[0;32mIn[62], line 1\u001B[0m\n\u001B[0;32m----> 1\u001B[0m chocolate2 \u001B[38;5;241m=\u001B[39m \u001B[43mChocolate\u001B[49m\u001B[43m(\u001B[49m\u001B[38;5;241;43m0\u001B[39;49m\u001B[43m,\u001B[49m\u001B[43m \u001B[49m\u001B[38;5;124;43m\"\u001B[39;49m\u001B[38;5;124;43mваниль\u001B[39;49m\u001B[38;5;124;43m\"\u001B[39;49m\u001B[43m)\u001B[49m\n\u001B[1;32m      2\u001B[0m \u001B[38;5;28mprint\u001B[39m(chocolate2)\n",
      "Cell \u001B[0;32mIn[56], line 6\u001B[0m, in \u001B[0;36mChocolate.__init__\u001B[0;34m(self, price, topping)\u001B[0m\n\u001B[1;32m      4\u001B[0m \u001B[38;5;28mself\u001B[39m\u001B[38;5;241m.\u001B[39mtopping \u001B[38;5;241m=\u001B[39m topping\n\u001B[1;32m      5\u001B[0m \u001B[38;5;28;01mif\u001B[39;00m price \u001B[38;5;241m<\u001B[39m\u001B[38;5;241m=\u001B[39m \u001B[38;5;241m0\u001B[39m:\n\u001B[0;32m----> 6\u001B[0m     \u001B[38;5;28;01mraise\u001B[39;00m \u001B[38;5;167;01mValueError\u001B[39;00m(\u001B[38;5;124m\"\u001B[39m\u001B[38;5;124mЦена должна быть больше нуля\u001B[39m\u001B[38;5;124m\"\u001B[39m)\n",
      "\u001B[0;31mValueError\u001B[0m: Цена должна быть больше нуля"
     ]
    }
   ],
   "execution_count": 62
  },
  {
   "metadata": {
    "ExecuteTime": {
     "end_time": "2025-04-21T18:14:49.737944Z",
     "start_time": "2025-04-21T18:14:49.735426Z"
    }
   },
   "cell_type": "code",
   "source": [
    "chocolate3 = Chocolate(5)\n",
    "print(chocolate3)"
   ],
   "id": "88cd4fbc399e19a1",
   "outputs": [
    {
     "name": "stdout",
     "output_type": "stream",
     "text": [
      "Школоданый батончик, 5 рублей.\n"
     ]
    }
   ],
   "execution_count": 59
  },
  {
   "metadata": {
    "ExecuteTime": {
     "end_time": "2025-04-21T18:15:15.759080Z",
     "start_time": "2025-04-21T18:15:15.756286Z"
    }
   },
   "cell_type": "code",
   "source": [
    "chocolate1.show_my_chocolate()\n",
    "chocolate3.show_my_chocolate()"
   ],
   "id": "279877d89937a82f",
   "outputs": [
    {
     "name": "stdout",
     "output_type": "stream",
     "text": [
      "Шоколадный батончик, добавка: ваниль.\n",
      "Обычный шоколадный батончик\n"
     ]
    }
   ],
   "execution_count": 63
  }
 ],
 "metadata": {
  "kernelspec": {
   "display_name": "Python 3",
   "language": "python",
   "name": "python3"
  },
  "language_info": {
   "codemirror_mode": {
    "name": "ipython",
    "version": 2
   },
   "file_extension": ".py",
   "mimetype": "text/x-python",
   "name": "python",
   "nbconvert_exporter": "python",
   "pygments_lexer": "ipython2",
   "version": "2.7.6"
  }
 },
 "nbformat": 4,
 "nbformat_minor": 5
}
